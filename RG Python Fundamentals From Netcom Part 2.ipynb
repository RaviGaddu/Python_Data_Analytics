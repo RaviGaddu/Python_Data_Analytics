{
 "cells": [
  {
   "cell_type": "markdown",
   "metadata": {
    "id": "pahUs8jpKPPM"
   },
   "source": [
    "### Comparison Operators <br>\n",
    "<br>\n",
    "\n",
    "== : value 1's content is the same as the comparrison <br>\n",
    "\\!= : value 1's content is not the same as the comparrison <br>\n",
    "<  : Less than <br>\n",
    "\\>  : Greater than <br>\n",
    "<=  : Less than or equals to<br>\n",
    "\\>=  : Greater than or equals to <br>"
   ]
  },
  {
   "cell_type": "code",
   "execution_count": 1,
   "metadata": {
    "colab": {
     "base_uri": "https://localhost:8080/"
    },
    "id": "ZrLwLhncL5YG",
    "outputId": "0dcc8b71-177d-4ca2-930c-7b429d0be255"
   },
   "outputs": [
    {
     "name": "stdout",
     "output_type": "stream",
     "text": [
      "True\n",
      "False\n",
      "False\n",
      "False\n",
      "True\n",
      "True\n",
      "False\n",
      "True\n",
      "False\n",
      "True\n"
     ]
    }
   ],
   "source": [
    "# Numeric examples\n",
    "a = 77\n",
    "b = 77\n",
    "\n",
    "print(a == b)  # False\n",
    "print(a != b)  # True\n",
    "print(a > b)   # False\n",
    "print(a < b)   # True\n",
    "print(a >= b)  # False\n",
    "print(a <= b)  # True\n",
    "\n",
    "# String examples\n",
    "str1 = \"hello\"\n",
    "str2 = \"world\"\n",
    "\n",
    "print(str1 == str2)  # False\n",
    "print(str1 != str2)  # True\n",
    "print(str1 > str2)   # False (lexicographically greater)\n",
    "print(str1 < str2)   # True (lexicographically smaller)"
   ]
  },
  {
   "cell_type": "markdown",
   "metadata": {
    "id": "7lffKMzdKPPP"
   },
   "source": [
    "## Logical Operators"
   ]
  },
  {
   "cell_type": "code",
   "execution_count": 7,
   "metadata": {
    "id": "Ia2-8G_RKPPP"
   },
   "outputs": [],
   "source": [
    "x = 5\n",
    "y = 3"
   ]
  },
  {
   "cell_type": "code",
   "execution_count": 6,
   "metadata": {
    "colab": {
     "base_uri": "https://localhost:8080/"
    },
    "id": "mPkwGO7UKPPP",
    "outputId": "a1de4fa5-6f30-4b16-e23d-7b05b21a0aa3"
   },
   "outputs": [
    {
     "data": {
      "text/plain": [
       "False"
      ]
     },
     "execution_count": 6,
     "metadata": {},
     "output_type": "execute_result"
    }
   ],
   "source": [
    "#Returns True if both statements are true\n",
    "x <5 and x <10"
   ]
  },
  {
   "cell_type": "code",
   "execution_count": 8,
   "metadata": {
    "colab": {
     "base_uri": "https://localhost:8080/"
    },
    "id": "IBITGa0nKPPQ",
    "outputId": "11358523-861a-422a-97f0-b5fee67eaad7"
   },
   "outputs": [
    {
     "data": {
      "text/plain": [
       "True"
      ]
     },
     "execution_count": 8,
     "metadata": {},
     "output_type": "execute_result"
    }
   ],
   "source": [
    "#Returns True if one of the statements is true\n",
    "x <=5 or x <4"
   ]
  },
  {
   "cell_type": "code",
   "execution_count": 9,
   "metadata": {
    "colab": {
     "base_uri": "https://localhost:8080/"
    },
    "id": "TbMI4aRtKPPQ",
    "outputId": "5361027e-7e51-40a9-c01f-5c23e6e6c366"
   },
   "outputs": [
    {
     "data": {
      "text/plain": [
       "True"
      ]
     },
     "execution_count": 9,
     "metadata": {},
     "output_type": "execute_result"
    }
   ],
   "source": [
    "#Reverses the result and will return False is the result is not true\n",
    "not(x <5 and x < 10)"
   ]
  },
  {
   "cell_type": "markdown",
   "metadata": {
    "id": "1YorHuiXKPPQ"
   },
   "source": [
    "## IF....Else"
   ]
  },
  {
   "cell_type": "code",
   "execution_count": null,
   "metadata": {
    "id": "EyIr-zaSX3BX"
   },
   "outputs": [],
   "source": [
    "if condition:\n",
    "    # Code to be executed if the condition is True\n"
   ]
  },
  {
   "cell_type": "code",
   "execution_count": null,
   "metadata": {
    "id": "4mEWxoEbYirR"
   },
   "outputs": [],
   "source": [
    "if condition:\n",
    "    # Code to be executed if the condition is True\n",
    "else:\n",
    "    # Code to be executed if the condition is False\n"
   ]
  },
  {
   "cell_type": "code",
   "execution_count": null,
   "metadata": {
    "id": "bieDYlz5YqYr"
   },
   "outputs": [],
   "source": [
    "if condition1:\n",
    "    # Code to be executed if condition1 is True\n",
    "elif condition2:\n",
    "    # Code to be executed if condition2 is True\n",
    "elif condition3:\n",
    "    # Code to be executed if condition3 is True\n",
    "# ...\n",
    "else:\n",
    "    # Code to be executed if none of the above conditions is True\n"
   ]
  },
  {
   "cell_type": "code",
   "execution_count": 11,
   "metadata": {
    "colab": {
     "base_uri": "https://localhost:8080/",
     "height": 390
    },
    "id": "jmjxS5vSKPPQ",
    "outputId": "cc1de884-51c9-4e7a-cc00-88a7529768ac"
   },
   "outputs": [
    {
     "name": "stdin",
     "output_type": "stream",
     "text": [
      "Enter mark:  80\n"
     ]
    },
    {
     "name": "stdout",
     "output_type": "stream",
     "text": [
      "Pass\n"
     ]
    }
   ],
   "source": [
    "#If Else example\n",
    "mark = int(input(\"Enter mark: \"))\n",
    "\n",
    "if mark > 65:\n",
    "    print(\"Pass\")\n",
    "else:\n",
    "    print(\"Fail\")\n",
    "\n"
   ]
  },
  {
   "cell_type": "code",
   "execution_count": 14,
   "metadata": {
    "id": "FVHInmgCKPPQ"
   },
   "outputs": [
    {
     "name": "stdin",
     "output_type": "stream",
     "text": [
      "Enter mark:  78\n"
     ]
    },
    {
     "name": "stdout",
     "output_type": "stream",
     "text": [
      "Merit\n"
     ]
    }
   ],
   "source": [
    "mark = int(input(\"Enter mark: \"))\n",
    "\n",
    "if mark > 75:\n",
    "    print(\"Merit\")\n",
    "elif mark > 65:\n",
    "    print(\"Pass\")\n",
    "else:\n",
    "    print(\"Fail\")\n"
   ]
  },
  {
   "cell_type": "code",
   "execution_count": null,
   "metadata": {
    "id": "GLRtXsPtpU44"
   },
   "outputs": [],
   "source": [
    "if condition1:\n",
    "    # Code to be executed if condition1 is True\n",
    "\n",
    "    if condition2:\n",
    "        # Code to be executed if condition2 is True\n",
    "    else:\n",
    "        # Code to be executed if condition2 is False\n",
    "\n",
    "else:\n",
    "    # Code to be executed if condition1 is False\n"
   ]
  },
  {
   "cell_type": "code",
   "execution_count": 16,
   "metadata": {
    "id": "xWmCfnVqKPPQ"
   },
   "outputs": [],
   "source": [
    "user_name = \"Georgina\"\n",
    "UserName = \"Amanda\"\n",
    "username = \"Satinder\"\n"
   ]
  },
  {
   "cell_type": "code",
   "execution_count": 17,
   "metadata": {
    "id": "RSjxWfbJKPPR"
   },
   "outputs": [
    {
     "name": "stdout",
     "output_type": "stream",
     "text": [
      "Georgina is your trainer.\n"
     ]
    }
   ],
   "source": [
    "if user_name == \"Patric\":\n",
    "    print(\"Donna is your trainer.\")\n",
    "elif user_name == \"Matthew\":\n",
    "    print(\"Suzannah is your trainer.\")\n",
    "else:\n",
    "    print(user_name, \"is your trainer.\")\n"
   ]
  },
  {
   "cell_type": "code",
   "execution_count": 22,
   "metadata": {
    "id": "HiRk-BscKPPR"
   },
   "outputs": [
    {
     "name": "stdin",
     "output_type": "stream",
     "text": [
      "Enter exam level:  3\n",
      "Enter level 3 mark:  50\n"
     ]
    },
    {
     "name": "stdout",
     "output_type": "stream",
     "text": [
      "Fail\n"
     ]
    }
   ],
   "source": [
    "#Nested If Example\n",
    "examlevel = int(input(\"Enter exam level: \"))\n",
    "\n",
    "if examlevel == 3:\n",
    "    mark = int(input(\"Enter level 3 mark: \"))\n",
    "    if mark > 65: # secondary condition of exam level 3\n",
    "        print(\"Pass\")\n",
    "    else:\n",
    "        print(\"Fail\")\n",
    "\n",
    "elif examlevel == 4:\n",
    "    mark = int(input(\"Enter level 4 mark: \"))\n",
    "    if mark > 50:\n",
    "        print(\"Pass\")\n",
    "    else:\n",
    "        print(\"Fail\")\n",
    "else:\n",
    "    print(\"Invalid Level\")\n",
    "\n"
   ]
  },
  {
   "cell_type": "code",
   "execution_count": null,
   "metadata": {
    "id": "NYeqTUUFKPPR"
   },
   "outputs": [],
   "source": [
    "#IF with multile conditions example\n",
    "print(\"Menu:\")\n",
    "print(\"1 - Level 1\")\n",
    "print(\"2 - Level 2\")\n",
    "print(\"3 - Level 3\")\n",
    "print(\"4 - Level 4\")\n",
    "\n",
    "examlevel = int(input(\"Enter exam level: \"))"
   ]
  },
  {
   "cell_type": "code",
   "execution_count": null,
   "metadata": {
    "id": "WOidw8fTKPPR"
   },
   "outputs": [],
   "source": [
    "if examlevel == 1 or examlevel == 2:\n",
    "    mark = int(input(\"Enter Level 1 or 2 mark: \"))\n",
    "    if mark > 75:\n",
    "        print(\"Pass\")\n",
    "    else:\n",
    "        print(\"Fail\")\n",
    "elif examlevel == 3 or examlevel == 4:\n",
    "    mark = int(input(\"Enter Level 3 or 4 mark: \"))\n",
    "    if examlevel == 3 and mark > 65:\n",
    "        print(\"Pass\")\n",
    "    elif examlevel == 4 and mark > 50:\n",
    "        print(\"Pass\")\n",
    "    else:\n",
    "        print(\"Fail\")\n",
    "else:\n",
    "    print(\"Invalid Level\")\n"
   ]
  },
  {
   "cell_type": "markdown",
   "metadata": {
    "id": "XbZkFNDJKPPR"
   },
   "source": [
    "## Lists"
   ]
  },
  {
   "cell_type": "code",
   "execution_count": 1,
   "metadata": {
    "id": "0LtjmluKqwOk"
   },
   "outputs": [
    {
     "name": "stdout",
     "output_type": "stream",
     "text": [
      "[1, 2, 3, 'apple', 'orange', True]\n"
     ]
    }
   ],
   "source": [
    "# exmaple of how to create a list\n",
    "my_list = [1, 2, 3, 'apple', 'orange', True]\n",
    "\n",
    "print(my_list)\n"
   ]
  },
  {
   "cell_type": "code",
   "execution_count": 2,
   "metadata": {
    "id": "T9QiQpdNKPPR",
    "outputId": "ed951d02-a85d-4693-a42a-2440dcf5bc15"
   },
   "outputs": [
    {
     "name": "stdout",
     "output_type": "stream",
     "text": [
      "Milkshake\n"
     ]
    }
   ],
   "source": [
    "\"\"\"\n",
    "It can be useful for a variable to refer to a collection of data.\n",
    "Lists refer to multiple values, which are all contained and accessible through a single variable\n",
    "\n",
    "\"\"\"\n",
    "\n",
    "farm_cows = [\"Winnie the Moo\", \"Dasiy\", \"Milkshake\", \"Buttercup\"]\n",
    "\n",
    "print(farm_cows[2])"
   ]
  },
  {
   "cell_type": "markdown",
   "metadata": {
    "id": "mR-4bH79KPPS"
   },
   "source": [
    "## List Methods"
   ]
  },
  {
   "cell_type": "code",
   "execution_count": 3,
   "metadata": {
    "id": "N7yVQdqCKPPS",
    "outputId": "431904ab-d869-44ae-f1a6-d1122dd08e7e"
   },
   "outputs": [
    {
     "name": "stdout",
     "output_type": "stream",
     "text": [
      "['Winnie the Moo', 'Milkshake', 'Buttercup']\n"
     ]
    }
   ],
   "source": [
    "farm_cows = [\"Winnie the Moo\", \"Dasiy\", \"Milkshake\", \"Buttercup\"]\n",
    "farm_cows.pop(1)\n",
    "print(farm_cows)"
   ]
  },
  {
   "cell_type": "code",
   "execution_count": 4,
   "metadata": {
    "id": "-MX7QFrdKPPS",
    "outputId": "1c9755ad-c2b5-40be-866e-521c4e688f1c"
   },
   "outputs": [
    {
     "data": {
      "text/plain": [
       "3"
      ]
     },
     "execution_count": 4,
     "metadata": {},
     "output_type": "execute_result"
    }
   ],
   "source": [
    "len(farm_cows)"
   ]
  },
  {
   "cell_type": "code",
   "execution_count": 5,
   "metadata": {
    "id": "5d0sZoGSKPPS",
    "outputId": "2ca9bb75-d1a5-4846-be39-a1908ca41512"
   },
   "outputs": [
    {
     "name": "stdout",
     "output_type": "stream",
     "text": [
      "['Winnie the Moo', 'Milkshake', 'Buttercup', 'Steve']\n"
     ]
    }
   ],
   "source": [
    "farm_cows.append(\"Steve\")\n",
    "print(farm_cows)"
   ]
  },
  {
   "cell_type": "code",
   "execution_count": 6,
   "metadata": {
    "id": "IK6Rgln7KPPS",
    "outputId": "fe803296-c1e0-438f-8d7f-8dd348bd477a"
   },
   "outputs": [
    {
     "name": "stdout",
     "output_type": "stream",
     "text": [
      "['Buttercup', 'Milkshake', 'Steve', 'Winnie the Moo']\n"
     ]
    }
   ],
   "source": [
    "farm_cows.sort()\n",
    "print(farm_cows)"
   ]
  },
  {
   "cell_type": "markdown",
   "metadata": {
    "id": "Se8z_dd7KPPT"
   },
   "source": [
    "## List Subset"
   ]
  },
  {
   "cell_type": "code",
   "execution_count": 7,
   "metadata": {
    "id": "QqlVvqGvKPPT",
    "outputId": "c7eca033-a108-49fc-9ad5-113a23796be7"
   },
   "outputs": [
    {
     "name": "stdout",
     "output_type": "stream",
     "text": [
      "Milkshake\n",
      "['Dasiy', 'Milkshake']\n",
      "['Dasiy', 'Milkshake', 'Buttercup']\n",
      "['Winnie the Moo', 'Dasiy', 'Milkshake']\n"
     ]
    }
   ],
   "source": [
    "# A subsection of a list can be taken using the square brackets:\n",
    "\n",
    "farm_cows = [\"Winnie the Moo\", \"Dasiy\", \"Milkshake\", \"Buttercup\"]\n",
    "print(farm_cows[2])\n",
    "print(farm_cows[1:3])\n",
    "print(farm_cows[1:])\n",
    "print(farm_cows[:3])"
   ]
  },
  {
   "cell_type": "markdown",
   "metadata": {
    "id": "kOWmVrs3KPPT"
   },
   "source": [
    "## Multidimensional Lists"
   ]
  },
  {
   "cell_type": "code",
   "execution_count": 8,
   "metadata": {
    "id": "jaHx9fncKPPT",
    "outputId": "a415aaa9-4837-49b7-c69f-563268ade7ca"
   },
   "outputs": [
    {
     "name": "stdout",
     "output_type": "stream",
     "text": [
      "[['Winnie the Moo', 'Dasiy', 'Milkshake', 'Buttercup'], ['Baart', 'Barbara'], ['Bacon', 'Hamlet', 'Hog']]\n",
      "Hamlet\n",
      "Buttercup\n"
     ]
    }
   ],
   "source": [
    "\"\"\"\"\n",
    "A single list is useful for interacting with a row of data.\n",
    "A multi dimensional list (a list made up of lists) is useful for interacting with a table of data\n",
    "\n",
    "\"\"\"\n",
    "\n",
    "farm_cows = [\"Winnie the Moo\", \"Dasiy\", \"Milkshake\", \"Buttercup\"]\n",
    "farm_sheep = [\"Baart\", \"Barbara\"]\n",
    "farm_pigs = [\"Bacon\", \"Hamlet\", \"Hog\"]\n",
    "\n",
    "farm_animals = [farm_cows, farm_sheep, farm_pigs]\n",
    "\n",
    "print(farm_animals)\n",
    "\n",
    "print(farm_animals [2] [1])\n",
    "print(farm_animals [0] [3])"
   ]
  },
  {
   "cell_type": "markdown",
   "metadata": {
    "id": "DvUMvfypKPPT"
   },
   "source": [
    "## Loosely Typed Lists"
   ]
  },
  {
   "cell_type": "code",
   "execution_count": 9,
   "metadata": {
    "id": "oZQtE69JKPPT",
    "outputId": "e72bdeb6-70db-43c5-bc5e-277674cfc6c4"
   },
   "outputs": [
    {
     "name": "stdout",
     "output_type": "stream",
     "text": [
      "Snow Hill Farm\n",
      "['Winnie the Moo', 'Daisy']\n",
      "1991\n"
     ]
    }
   ],
   "source": [
    "# A list of items can contain any data types, it can be a list that contains lists, strings, numbers etc.\n",
    "\n",
    "farm = [\"Snow Hill Farm\", [\"Winnie the Moo\", \"Daisy\"], 1991]\n",
    "#         string               List                     Int\n",
    "\n",
    "print(farm[0])\n",
    "print(farm[1])\n",
    "print(farm[2])"
   ]
  },
  {
   "cell_type": "markdown",
   "metadata": {
    "id": "2ySoFPPBKPPT"
   },
   "source": [
    "## Tuples"
   ]
  },
  {
   "cell_type": "code",
   "execution_count": 6,
   "metadata": {
    "id": "zw-JDbbnKPPT"
   },
   "outputs": [],
   "source": [
    "\"\"\"\"\n",
    "\n",
    "A tuple is a read-only sequence of items separated by commas and enclosed within parentheses.\n",
    "Tuples cannot be changed once they have been created.\n",
    "\n",
    "\"\"\"\n",
    "\n",
    "cat_list = [\"Buttons\", 23, 4.0]\n",
    "cat_tuple = (\"Mr Socks\", 23, 4.0)"
   ]
  },
  {
   "cell_type": "code",
   "execution_count": 11,
   "metadata": {
    "id": "_u7K7ITYKPPU",
    "outputId": "c198cf03-5635-4fe6-9250-2ea218d9805f"
   },
   "outputs": [
    {
     "name": "stdout",
     "output_type": "stream",
     "text": [
      "['Tigger', 23, 4.0]\n"
     ]
    }
   ],
   "source": [
    "# name change\n",
    "cat_list[0] = \"Tigger\"\n",
    "print(cat_list)"
   ]
  },
  {
   "cell_type": "code",
   "execution_count": 12,
   "metadata": {
    "id": "BXxu54rKKPPU",
    "outputId": "2f8d8d0e-0c95-4b25-9f3f-4749e837e963"
   },
   "outputs": [
    {
     "ename": "TypeError",
     "evalue": "'tuple' object does not support item assignment",
     "output_type": "error",
     "traceback": [
      "\u001b[1;31m---------------------------------------------------------------------------\u001b[0m",
      "\u001b[1;31mTypeError\u001b[0m                                 Traceback (most recent call last)",
      "Cell \u001b[1;32mIn[12], line 2\u001b[0m\n\u001b[0;32m      1\u001b[0m \u001b[38;5;66;03m# name cannot be changed\u001b[39;00m\n\u001b[1;32m----> 2\u001b[0m cat_tuple[\u001b[38;5;241m0\u001b[39m] \u001b[38;5;241m=\u001b[39m \u001b[38;5;124m\"\u001b[39m\u001b[38;5;124mTwiglet\u001b[39m\u001b[38;5;124m\"\u001b[39m\n\u001b[0;32m      3\u001b[0m \u001b[38;5;28mprint\u001b[39m(cat_tuple)\n",
      "\u001b[1;31mTypeError\u001b[0m: 'tuple' object does not support item assignment"
     ]
    }
   ],
   "source": [
    "# name cannot be changed\n",
    "cat_tuple[0] = \"Twiglet\"\n",
    "print(cat_tuple)"
   ]
  },
  {
   "cell_type": "markdown",
   "metadata": {
    "id": "fNMeFCSCKPPU"
   },
   "source": [
    "## Sets"
   ]
  },
  {
   "cell_type": "code",
   "execution_count": 2,
   "metadata": {
    "id": "RKZcFBBnKPPU",
    "outputId": "7d34caf2-4bf3-4d11-bf14-17f09f5d87d7"
   },
   "outputs": [
    {
     "name": "stdout",
     "output_type": "stream",
     "text": [
      "{'Mr Socks', 'Buttons', 'Twiglet'}\n"
     ]
    },
    {
     "ename": "TypeError",
     "evalue": "'set' object is not subscriptable",
     "output_type": "error",
     "traceback": [
      "\u001b[1;31m---------------------------------------------------------------------------\u001b[0m",
      "\u001b[1;31mTypeError\u001b[0m                                 Traceback (most recent call last)",
      "Cell \u001b[1;32mIn[2], line 8\u001b[0m\n\u001b[0;32m      6\u001b[0m cat_set \u001b[38;5;241m=\u001b[39m {\u001b[38;5;124m\"\u001b[39m\u001b[38;5;124mButtons\u001b[39m\u001b[38;5;124m\"\u001b[39m, \u001b[38;5;124m\"\u001b[39m\u001b[38;5;124mMr Socks\u001b[39m\u001b[38;5;124m\"\u001b[39m, \u001b[38;5;124m\"\u001b[39m\u001b[38;5;124mTwiglet\u001b[39m\u001b[38;5;124m\"\u001b[39m , \u001b[38;5;124m\"\u001b[39m\u001b[38;5;124mTwiglet\u001b[39m\u001b[38;5;124m\"\u001b[39m}\n\u001b[0;32m      7\u001b[0m \u001b[38;5;28mprint\u001b[39m(cat_set)\n\u001b[1;32m----> 8\u001b[0m \u001b[38;5;28mprint\u001b[39m(cat_set[\u001b[38;5;241m1\u001b[39m])\n",
      "\u001b[1;31mTypeError\u001b[0m: 'set' object is not subscriptable"
     ]
    }
   ],
   "source": [
    "\"\"\"\"\n",
    "A set is used to store multiple items in a single variable.\n",
    "A set is a collection which is unordered, unindexed, items can be added or removed, items are unique. So cannot use index function\n",
    "\"\"\"\n",
    "\n",
    "cat_set = {\"Buttons\", \"Mr Socks\", \"Twiglet\" , \"Twiglet\"}\n",
    "print(cat_set)\n",
    "print(cat_set[1])"
   ]
  },
  {
   "cell_type": "markdown",
   "metadata": {
    "id": "OiXhRdGRKPPU"
   },
   "source": [
    "## Dictionaries"
   ]
  },
  {
   "cell_type": "code",
   "execution_count": 3,
   "metadata": {
    "id": "qnjJGta9KPPU",
    "outputId": "ee3981db-171d-4e67-e111-b2c43050ea5d"
   },
   "outputs": [
    {
     "name": "stdout",
     "output_type": "stream",
     "text": [
      "Cows go moo\n",
      "Sheep go baa\n",
      "Cat go meow\n"
     ]
    }
   ],
   "source": [
    "\"\"\"\n",
    "Dictionaries are similar to lists such that they can store a collection of values,\n",
    "but you usually don't use indexes to find the items.\n",
    "\n",
    "Each value is stored with a key. When the key is searched for in the dictionary with a bracket [ ]\n",
    "the value is returned.\n",
    "\"\"\"\n",
    "\n",
    "farm_animals = {\"cow\": \"Cows go moo\",\n",
    "                \"sheep\": \"Sheep go baa\",\n",
    "                \"cat\": \"Cat go meow\"\n",
    "                }\n",
    "\n",
    "print(farm_animals[\"cow\"])\n",
    "print(farm_animals[\"sheep\"])\n",
    "print(farm_animals[\"cat\"])"
   ]
  },
  {
   "cell_type": "code",
   "execution_count": 4,
   "metadata": {
    "id": "oui5WqqhKPPV",
    "outputId": "458cfcf1-810f-43bb-dd9d-721082f9bbf9"
   },
   "outputs": [
    {
     "name": "stdout",
     "output_type": "stream",
     "text": [
      "Cows go moo\n",
      "Sheep goes baa\n"
     ]
    }
   ],
   "source": [
    "# adding to dictionary\n",
    "farm_animals = {}\n",
    "farm_animals[\"cow\"] = \"Cows go moo\"\n",
    "farm_animals[\"sheep\"] = \"Sheep goes baa\"\n",
    "\n",
    "print(farm_animals[\"cow\"])\n",
    "print(farm_animals[\"sheep\"])"
   ]
  },
  {
   "cell_type": "code",
   "execution_count": 5,
   "metadata": {
    "id": "s8toi-w5KPPV",
    "outputId": "5f1bbd78-29e5-48a9-fb55-67967f764d1d"
   },
   "outputs": [
    {
     "name": "stdout",
     "output_type": "stream",
     "text": [
      "{'cow': 'Cows go moo', 'sheep': 'Sheep goes baa', 'dog': 'Dog goes bark'}\n"
     ]
    }
   ],
   "source": [
    "farm_animals[\"dog\"] = \"Dog goes bark\"\n",
    "print(farm_animals)"
   ]
  },
  {
   "cell_type": "code",
   "execution_count": 7,
   "metadata": {
    "id": "bqq6H_2AKPPe",
    "outputId": "e491acec-3ce3-4ff8-b9d1-f5b3dc06f393"
   },
   "outputs": [
    {
     "data": {
      "text/plain": [
       "['cow', 'sheep', 'cat']"
      ]
     },
     "execution_count": 7,
     "metadata": {},
     "output_type": "execute_result"
    }
   ],
   "source": [
    "# A list of keys and/or values can be retrieved using the .keys() and .values() methods within a dictionary\n",
    "\n",
    "farm_animals = {\"cow\" : \"Cows go moo\",\n",
    "\t\t  \"sheep\": \"Sheep goes baa\",\n",
    "\t\t  \"cat\": \"Cats go meow\"\n",
    "\t\t }\n",
    "\n",
    "list(farm_animals.keys())\n"
   ]
  },
  {
   "cell_type": "code",
   "execution_count": 8,
   "metadata": {
    "id": "bIknYNO5KPPe",
    "outputId": "c1c1e9fb-e1c3-4535-f599-66b723b40d93"
   },
   "outputs": [
    {
     "data": {
      "text/plain": [
       "['Cows go moo', 'Sheep goes baa', 'Cats go meow']"
      ]
     },
     "execution_count": 8,
     "metadata": {},
     "output_type": "execute_result"
    }
   ],
   "source": [
    "list(farm_animals.values())"
   ]
  },
  {
   "cell_type": "code",
   "execution_count": 9,
   "metadata": {
    "id": "ODWODfugKPPf",
    "outputId": "3d14068d-788a-49f5-e2ac-7598ab1f3c39"
   },
   "outputs": [
    {
     "name": "stdout",
     "output_type": "stream",
     "text": [
      "{'pet1': {'name': 'Fig', 'year': 2004}, 'pet2': {'name': 'Ruby', 'year': 2007}, 'pet3': {'name': 'Twiglet', 'year': 2011}}\n"
     ]
    }
   ],
   "source": [
    "# nested dictionaries\n",
    "mypets = {\n",
    "  \"pet1\" : {\n",
    "    \"name\" : \"Fig\",\n",
    "    \"year\" : 2004\n",
    "  },\n",
    "  \"pet2\" : {\n",
    "    \"name\" : \"Ruby\",\n",
    "    \"year\" : 2007\n",
    "  },\n",
    "  \"pet3\" : {\n",
    "    \"name\" : \"Twiglet\",\n",
    "    \"year\" : 2011\n",
    "  }\n",
    "}\n",
    "\n",
    "print(mypets)"
   ]
  },
  {
   "cell_type": "code",
   "execution_count": 10,
   "metadata": {
    "id": "B1rGV1RwKPPf",
    "outputId": "9c4737b7-fd16-46a2-8ac1-1a618ea73bc3"
   },
   "outputs": [
    {
     "name": "stdout",
     "output_type": "stream",
     "text": [
      "{'name': 'Twiglet', 'year': 2011}\n"
     ]
    }
   ],
   "source": [
    "print(mypets['pet3'])"
   ]
  },
  {
   "cell_type": "code",
   "execution_count": 11,
   "metadata": {
    "id": "dXZrYo42KPPf",
    "outputId": "45f96f88-c9b7-484a-e992-78c1ca32daad"
   },
   "outputs": [
    {
     "name": "stdout",
     "output_type": "stream",
     "text": [
      "Twiglet\n"
     ]
    }
   ],
   "source": [
    "print(mypets['pet3']['name'])"
   ]
  },
  {
   "cell_type": "code",
   "execution_count": null,
   "metadata": {},
   "outputs": [],
   "source": []
  }
 ],
 "metadata": {
  "colab": {
   "provenance": []
  },
  "kernelspec": {
   "display_name": "Python 3 (ipykernel)",
   "language": "python",
   "name": "python3"
  },
  "language_info": {
   "codemirror_mode": {
    "name": "ipython",
    "version": 3
   },
   "file_extension": ".py",
   "mimetype": "text/x-python",
   "name": "python",
   "nbconvert_exporter": "python",
   "pygments_lexer": "ipython3",
   "version": "3.11.7"
  },
  "vscode": {
   "interpreter": {
    "hash": "ac386f5353f47742201f3ac80f02cf24426a78d9f41b1998c4a060eca4805fca"
   }
  }
 },
 "nbformat": 4,
 "nbformat_minor": 4
}
