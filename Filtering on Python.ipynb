{
 "cells": [
  {
   "cell_type": "code",
   "execution_count": null,
   "metadata": {},
   "outputs": [],
   "source": [
    "import pandas as pd\n",
    "\n",
    "# Read the uploaded CSV file\n",
    "data = pd.read_csv('Sales.csv')"
   ]
  },
  {
   "cell_type": "code",
   "execution_count": 1,
   "metadata": {},
   "outputs": [
    {
     "name": "stdout",
     "output_type": "stream",
     "text": [
      "    Name  Age  Salary\n",
      "1    Bob   30   60000\n",
      "3  David   35   70000\n"
     ]
    }
   ],
   "source": [
    "import pandas as pd\n",
    "\n",
    "# Create a sample DataFrame\n",
    "data = {'Name': ['Alice', 'Bob', 'Charlie', 'David'],\n",
    "        'Age': [25, 30, 22, 35],\n",
    "        'Salary': [50000, 60000, 45000, 70000]}\n",
    "\n",
    "df = pd.DataFrame(data)\n",
    "\n",
    "# Filter rows where Age is greater than 25\n",
    "filtered_df = df[df['Age'] > 25]\n",
    "\n",
    "print(filtered_df)\n",
    "\n",
    "# what would you have to do to include 25?"
   ]
  },
  {
   "cell_type": "code",
   "execution_count": 2,
   "metadata": {},
   "outputs": [
    {
     "name": "stdout",
     "output_type": "stream",
     "text": [
      "    Name  Age  Salary\n",
      "1    Bob   30   60000\n",
      "3  David   35   70000\n"
     ]
    }
   ],
   "source": [
    "filtered_df = df[(df['Age'] > 25) & (df['Salary'] > 50000)]\n",
    "\n",
    "print(filtered_df)"
   ]
  },
  {
   "cell_type": "code",
   "execution_count": 3,
   "metadata": {},
   "outputs": [
    {
     "name": "stdout",
     "output_type": "stream",
     "text": [
      "      Name  Age  Salary\n",
      "2  Charlie   22   45000\n"
     ]
    }
   ],
   "source": [
    "# Filter rows where Age is less than 25\n",
    "filtered_df = df[df['Age'] < 25]\n",
    "\n",
    "print(filtered_df)"
   ]
  },
  {
   "cell_type": "code",
   "execution_count": 4,
   "metadata": {},
   "outputs": [
    {
     "name": "stdout",
     "output_type": "stream",
     "text": [
      "    Name  Age  Salary\n",
      "1    Bob   30   60000\n",
      "3  David   35   70000\n"
     ]
    }
   ],
   "source": [
    "# Filter rows where Age is greater than 25 and Salary is greater than 50000\n",
    "filtered_df = df[(df['Age'] > 25) & (df['Salary'] > 50000)]\n",
    "\n",
    "print(filtered_df)"
   ]
  },
  {
   "cell_type": "code",
   "execution_count": 5,
   "metadata": {},
   "outputs": [
    {
     "name": "stdout",
     "output_type": "stream",
     "text": [
      "    Name  Age  Salary\n",
      "0  Alice   25   50000\n"
     ]
    }
   ],
   "source": [
    "# Filter rows where Name contains 'a'\n",
    "filtered_df = df[df['Name'].str.contains('alice', case=False)]\n",
    "\n",
    "print(filtered_df)"
   ]
  },
  {
   "cell_type": "code",
   "execution_count": 6,
   "metadata": {},
   "outputs": [
    {
     "name": "stdout",
     "output_type": "stream",
     "text": [
      "      Name  Age  Salary\n",
      "0    Alice   25   50000\n",
      "2  Charlie   22   45000\n"
     ]
    }
   ],
   "source": [
    "# Filter rows where Name is in a given list\n",
    "name_list = ['Alice', 'Charlie']\n",
    "filtered_df = df[df['Name'].isin(name_list)]\n",
    "\n",
    "print(filtered_df)\n"
   ]
  },
  {
   "cell_type": "code",
   "execution_count": 7,
   "metadata": {},
   "outputs": [
    {
     "name": "stdout",
     "output_type": "stream",
     "text": [
      "First Row using iloc:\n",
      "Name      Alice\n",
      "Age          25\n",
      "Salary    50000\n",
      "Name: 0, dtype: object\n",
      "\n",
      "Subset of DataFrame using iloc:\n",
      "      Name  Age\n",
      "1      Bob   30\n",
      "2  Charlie   22\n"
     ]
    }
   ],
   "source": [
    "# Selecting the first row\n",
    "first_row = df.iloc[0]\n",
    "print(\"First Row using iloc:\")\n",
    "print(first_row)\n",
    "print()\n",
    "\n",
    "# Selecting specific rows and columns using iloc\n",
    "subset_df = df.iloc[1:3, 0:2]  # Rows 1 to 2, Columns 0 to 1\n",
    "print(\"Subset of DataFrame using iloc:\")\n",
    "print(subset_df)\n"
   ]
  },
  {
   "cell_type": "code",
   "execution_count": 8,
   "metadata": {},
   "outputs": [
    {
     "name": "stdout",
     "output_type": "stream",
     "text": [
      "Row by Label using loc:\n",
      "Age          30\n",
      "Salary    60000\n",
      "Name: Bob, dtype: int64\n",
      "\n",
      "Subset of DataFrame using loc:\n",
      "         Age  Salary\n",
      "Name                \n",
      "Bob       30   60000\n",
      "Charlie   22   45000\n"
     ]
    }
   ],
   "source": [
    "# Setting 'Name' column as the index\n",
    "df.set_index('Name', inplace=True)\n",
    "\n",
    "# Selecting a row by label\n",
    "row_by_label = df.loc['Bob']\n",
    "print(\"Row by Label using loc:\")\n",
    "print(row_by_label)\n",
    "print()\n",
    "\n",
    "# Selecting specific rows and columns using loc\n",
    "subset_df_loc = df.loc[['Bob', 'Charlie'], ['Age', 'Salary']]\n",
    "print(\"Subset of DataFrame using loc:\")\n",
    "print(subset_df_loc)"
   ]
  },
  {
   "cell_type": "code",
   "execution_count": null,
   "metadata": {},
   "outputs": [],
   "source": []
  }
 ],
 "metadata": {
  "kernelspec": {
   "display_name": "Python 3 (ipykernel)",
   "language": "python",
   "name": "python3"
  },
  "language_info": {
   "codemirror_mode": {
    "name": "ipython",
    "version": 3
   },
   "file_extension": ".py",
   "mimetype": "text/x-python",
   "name": "python",
   "nbconvert_exporter": "python",
   "pygments_lexer": "ipython3",
   "version": "3.11.7"
  }
 },
 "nbformat": 4,
 "nbformat_minor": 4
}
