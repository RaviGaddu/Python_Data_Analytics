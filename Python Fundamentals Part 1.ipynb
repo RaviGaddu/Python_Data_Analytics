{
 "cells": [
  {
   "cell_type": "markdown",
   "metadata": {
    "id": "p3_F0JsyRXIR"
   },
   "source": [
    "## Practice"
   ]
  },
  {
   "cell_type": "code",
   "execution_count": 1,
   "metadata": {
    "id": "acN9Uv-GRXIW"
   },
   "outputs": [
    {
     "name": "stdout",
     "output_type": "stream",
     "text": [
      "Hello World\n"
     ]
    }
   ],
   "source": [
    "print(\"Hello World\")"
   ]
  },
  {
   "cell_type": "markdown",
   "metadata": {
    "id": "3pUsxOQ9RXIc"
   },
   "source": [
    "## Comments"
   ]
  },
  {
   "cell_type": "code",
   "execution_count": 21,
   "metadata": {
    "id": "rN3eseNZRXIc"
   },
   "outputs": [
    {
     "name": "stdout",
     "output_type": "stream",
     "text": [
      "Hello, World!\n"
     ]
    }
   ],
   "source": [
    "#This is a comment\n",
    "print(\"Hello, World!\")"
   ]
  },
  {
   "cell_type": "markdown",
   "metadata": {
    "id": "9uj1fJIJRXId"
   },
   "source": [
    "## Variables"
   ]
  },
  {
   "cell_type": "code",
   "execution_count": 18,
   "metadata": {
    "id": "aKOv7sBIRXId"
   },
   "outputs": [],
   "source": [
    "user_name=\"Beyonce\"\n",
    "User_age= 40.0\n",
    "\n",
    "UserName=\"Bill Gates\"\n",
    "pricePerLitr= 21"
   ]
  },
  {
   "cell_type": "code",
   "execution_count": 19,
   "metadata": {
    "id": "A3AlZQ9qRXIe"
   },
   "outputs": [
    {
     "name": "stdout",
     "output_type": "stream",
     "text": [
      "Beyonce\n",
      "40.0\n"
     ]
    }
   ],
   "source": [
    "print (user_name)\n",
    "print (User_age)\n"
   ]
  },
  {
   "cell_type": "markdown",
   "metadata": {
    "id": "0HJutwqVRXIf"
   },
   "source": [
    "## Data Types"
   ]
  },
  {
   "cell_type": "code",
   "execution_count": 4,
   "metadata": {
    "id": "u6BhLnCrRXIg"
   },
   "outputs": [],
   "source": [
    "data_type_1 = \"Hello\"      # String\n",
    "data_type_2 = 30           # Integer\n",
    "data_type_3 = 33.355       # Float\n",
    "data_type_4 = True         # Boolean (True/False)"
   ]
  },
  {
   "cell_type": "code",
   "execution_count": 22,
   "metadata": {
    "id": "QEtellP8RXIh"
   },
   "outputs": [
    {
     "name": "stdout",
     "output_type": "stream",
     "text": [
      "Hello\n"
     ]
    }
   ],
   "source": [
    "print(data_type_1)"
   ]
  },
  {
   "cell_type": "markdown",
   "metadata": {
    "id": "-Nk0Qqn_RXIh"
   },
   "source": [
    "## Math Operators"
   ]
  },
  {
   "cell_type": "markdown",
   "metadata": {
    "id": "GM4uQzLvRXIi"
   },
   "source": [
    "\\+ : This is to add <br>\n",
    "\\- : This is to subtrack <br>\n",
    "\\* : This is to multiply <br>\n",
    "/ : This is to divide <br>\n",
    "//: This is to divide and show the integer value <br>\n",
    "% : This shows the remainder value <br>\n",
    "\\**: This will do a multiplication to the power of <br>"
   ]
  },
  {
   "cell_type": "code",
   "execution_count": 23,
   "metadata": {
    "id": "n08KL7giRXIi"
   },
   "outputs": [
    {
     "name": "stdout",
     "output_type": "stream",
     "text": [
      "10\n"
     ]
    }
   ],
   "source": [
    "numbers = 2+2+2+2+2\n",
    "print(numbers)"
   ]
  },
  {
   "cell_type": "code",
   "execution_count": 24,
   "metadata": {
    "id": "_Ycwwb2_RXIi"
   },
   "outputs": [
    {
     "name": "stdout",
     "output_type": "stream",
     "text": [
      "48\n"
     ]
    }
   ],
   "source": [
    "print(8*6)"
   ]
  },
  {
   "cell_type": "code",
   "execution_count": 25,
   "metadata": {
    "id": "y_lnAmXURXIj"
   },
   "outputs": [
    {
     "name": "stdout",
     "output_type": "stream",
     "text": [
      "11\n"
     ]
    }
   ],
   "source": [
    "print(10-5+6)"
   ]
  },
  {
   "cell_type": "code",
   "execution_count": 26,
   "metadata": {
    "id": "p2CD_NW_RXIj"
   },
   "outputs": [
    {
     "name": "stdout",
     "output_type": "stream",
     "text": [
      "4.5\n",
      "4\n",
      "1\n"
     ]
    }
   ],
   "source": [
    "print (9/2)\n",
    "print (9//2)\n",
    "print (9%2)"
   ]
  },
  {
   "cell_type": "markdown",
   "metadata": {
    "id": "M_fWihfBRXIk"
   },
   "source": [
    "## User Input & Casting"
   ]
  },
  {
   "cell_type": "code",
   "execution_count": 27,
   "metadata": {
    "id": "JTmMvE78RXIk"
   },
   "outputs": [
    {
     "name": "stdin",
     "output_type": "stream",
     "text": [
      "What is your name?  Jeff Bezos\n"
     ]
    }
   ],
   "source": [
    "user_input = input(\"What is your name? \")"
   ]
  },
  {
   "cell_type": "code",
   "execution_count": 28,
   "metadata": {
    "id": "yYnUgan-RXIk"
   },
   "outputs": [
    {
     "name": "stdout",
     "output_type": "stream",
     "text": [
      "Hello Jeff Bezos !Hope you are well!\n"
     ]
    }
   ],
   "source": [
    "print(\"Hello\", user_input , \"!\" \"Hope you are well!\")"
   ]
  },
  {
   "cell_type": "code",
   "execution_count": 29,
   "metadata": {
    "id": "cGbxKTw4RXIl"
   },
   "outputs": [
    {
     "name": "stdout",
     "output_type": "stream",
     "text": [
      "7\n",
      "100.0\n",
      "777\n"
     ]
    }
   ],
   "source": [
    "x = int(7.7)\n",
    "y = float(100)\n",
    "z = str(777)\n",
    "\n",
    "print(x)\n",
    "print(y)\n",
    "print(z)"
   ]
  },
  {
   "cell_type": "code",
   "execution_count": 30,
   "metadata": {
    "id": "lUozAnc8RXIl"
   },
   "outputs": [
    {
     "name": "stdin",
     "output_type": "stream",
     "text": [
      "What is your age?  35\n"
     ]
    },
    {
     "name": "stdout",
     "output_type": "stream",
     "text": [
      "In two years time you will be.... 37 years old\n"
     ]
    }
   ],
   "source": [
    "user_input_age = int(input(\"What is your age? \"))\n",
    "print(\"In two years time you will be....\", user_input_age + 2, \"years old\")"
   ]
  },
  {
   "cell_type": "markdown",
   "metadata": {
    "id": "-HbhAsx7RXIm"
   },
   "source": [
    "## Strings & Line Breaks"
   ]
  },
  {
   "cell_type": "code",
   "execution_count": 2,
   "metadata": {
    "colab": {
     "base_uri": "https://localhost:8080/"
    },
    "id": "kImDUEC5RXIm",
    "outputId": "7078b480-f15b-4edb-c3c0-5316b3258a35"
   },
   "outputs": [
    {
     "name": "stdout",
     "output_type": "stream",
     "text": [
      "Joe Rogan\n"
     ]
    }
   ],
   "source": [
    "\n",
    "# Using the + operator for concatenation\n",
    "first_name = \"Joe\"\n",
    "last_name = \"Rogan\"\n",
    "\n",
    "full_name = first_name + \" \" + last_name\n",
    "print(full_name)\n"
   ]
  },
  {
   "cell_type": "code",
   "execution_count": 4,
   "metadata": {
    "id": "yafzteGpdQL-"
   },
   "outputs": [
    {
     "name": "stdout",
     "output_type": "stream",
     "text": [
      "Hello,\n",
      "World!\n"
     ]
    }
   ],
   "source": [
    "# Using \\n for line breaks\n",
    "message = \"Hello,\\nWorld!\"\n",
    "print(message)\n"
   ]
  },
  {
   "cell_type": "code",
   "execution_count": 11,
   "metadata": {
    "id": "4KuPIW8xdUwy"
   },
   "outputs": [
    {
     "name": "stdout",
     "output_type": "stream",
     "text": [
      "This is the first line.\n",
      "And this is the second line.\n"
     ]
    }
   ],
   "source": [
    "# Concatenating strings with line breaks\n",
    "line1 = \"This is the first line.\"\n",
    "line2 = \"And this is the second line.\"\n",
    "\n",
    "formatted_text = line1 + \"\\n\" + line2\n",
    "print(formatted_text)"
   ]
  },
  {
   "cell_type": "markdown",
   "metadata": {
    "id": "xfQBMOeeRXIn"
   },
   "source": [
    "## Slicing"
   ]
  },
  {
   "cell_type": "code",
   "execution_count": 12,
   "metadata": {
    "id": "yXDAAASNhsxs"
   },
   "outputs": [
    {
     "name": "stdout",
     "output_type": "stream",
     "text": [
      "Hello\n",
      "World\n",
      "World!\n"
     ]
    }
   ],
   "source": [
    "# Original string\n",
    "original_string = \"Hello, World!\"\n",
    "\n",
    "# Slicing to get the substring \"Hello\"\n",
    "substring_hello = original_string[0:5]\n",
    "print(substring_hello)  # Output: Hello\n",
    "\n",
    "# Slicing to get the substring \"World\"\n",
    "substring_world = original_string[7:12]\n",
    "print(substring_world)  # Output: World\n",
    "\n",
    "# Using negative indices to slice from the end of the string\n",
    "substring_end = original_string[-6:]\n",
    "print(substring_end)  # Output: World!\n"
   ]
  },
  {
   "cell_type": "markdown",
   "metadata": {
    "id": "zNBbeJOKRXI-"
   },
   "source": [
    "## Modifying Strings"
   ]
  },
  {
   "cell_type": "code",
   "execution_count": 13,
   "metadata": {
    "id": "eSrNBj8hRXI_"
   },
   "outputs": [
    {
     "name": "stdout",
     "output_type": "stream",
     "text": [
      "HELLO, WORLD!\n"
     ]
    }
   ],
   "source": [
    "# returns the string in upper case:\n",
    "a = \"Hello, World!\"\n",
    "print(a.upper())"
   ]
  },
  {
   "cell_type": "code",
   "execution_count": 14,
   "metadata": {
    "id": "GF3DPsxCRXI_"
   },
   "outputs": [
    {
     "name": "stdout",
     "output_type": "stream",
     "text": [
      "hello, world!\n"
     ]
    }
   ],
   "source": [
    "# returns the string in lower case:\n",
    "a = \"Hello, World!\"\n",
    "print(a.lower())"
   ]
  },
  {
   "cell_type": "code",
   "execution_count": 15,
   "metadata": {
    "id": "eUenyBUkRXI_"
   },
   "outputs": [
    {
     "name": "stdout",
     "output_type": "stream",
     "text": [
      "Jello, World!\n"
     ]
    }
   ],
   "source": [
    "#replaces a string with another string\n",
    "a = \"Hello, World!\"\n",
    "print(a.replace(\"H\", \"J\"))"
   ]
  },
  {
   "cell_type": "code",
   "execution_count": 16,
   "metadata": {
    "id": "OnNQVDnlRXJA"
   },
   "outputs": [
    {
     "name": "stdout",
     "output_type": "stream",
     "text": [
      "['Hello', ' World!']\n"
     ]
    }
   ],
   "source": [
    "# splits the string into substrings if it finds instances of the separator:\n",
    "a = \"Hello, World!\"\n",
    "print(a.split(\",\")) # returns ['Hello', ' World!']"
   ]
  },
  {
   "cell_type": "code",
   "execution_count": 17,
   "metadata": {
    "id": "DEw7MTB8jne9"
   },
   "outputs": [
    {
     "name": "stdout",
     "output_type": "stream",
     "text": [
      "Hello, World!\n"
     ]
    }
   ],
   "source": [
    "original_string = \"  Hello, World!  \"\n",
    "trimmed_string = original_string.strip()\n",
    "print(trimmed_string)  # Output: Hello, World"
   ]
  }
 ],
 "metadata": {
  "colab": {
   "provenance": []
  },
  "kernelspec": {
   "display_name": "Python 3 (ipykernel)",
   "language": "python",
   "name": "python3"
  },
  "language_info": {
   "codemirror_mode": {
    "name": "ipython",
    "version": 3
   },
   "file_extension": ".py",
   "mimetype": "text/x-python",
   "name": "python",
   "nbconvert_exporter": "python",
   "pygments_lexer": "ipython3",
   "version": "3.11.7"
  },
  "vscode": {
   "interpreter": {
    "hash": "a5f63a62d3ccbdac3c4e41d80cf9757d25bc12c493e22e9988ac4c4d778b87ca"
   }
  }
 },
 "nbformat": 4,
 "nbformat_minor": 4
}
