{
 "cells": [
  {
   "cell_type": "markdown",
   "metadata": {
    "id": "5oCUpp1KJTgk"
   },
   "source": [
    "## For loops"
   ]
  },
  {
   "cell_type": "code",
   "execution_count": 1,
   "metadata": {},
   "outputs": [
    {
     "name": "stdout",
     "output_type": "stream",
     "text": [
      "Hello\n",
      "Hello\n",
      "Hello\n",
      "Hello\n",
      "Hello\n"
     ]
    }
   ],
   "source": [
    "#A for loop is used when you know beforehand how many times you want to execute a block of code. It's like saying, \n",
    "#\"Do this a certain number of times.\"\n",
    "\n",
    "for i in range(5):\n",
    "    print(\"Hello\")\n",
    "\n",
    "# In this example:\n",
    "# range(5) generates numbers from 0 to 4.\n",
    "# The loop will execute 5 times because range(5) gives 5 numbers (0, 1, 2, 3, 4).\n",
    "# So, it will print \"Hello\" 5 times.\n"
   ]
  },
  {
   "cell_type": "code",
   "execution_count": 2,
   "metadata": {
    "colab": {
     "base_uri": "https://localhost:8080/"
    },
    "id": "ahsos0XkaKgP",
    "outputId": "acc7cefb-eb49-455a-ae34-8d4788b9fbf8"
   },
   "outputs": [
    {
     "name": "stdout",
     "output_type": "stream",
     "text": [
      "apple\n",
      "banana\n",
      "cherry\n",
      "kiwi\n"
     ]
    }
   ],
   "source": [
    "#Lists can be iterated over to retrieve each value, and apply the same code multiple times to each value in the list.\n",
    "#fruits is the variable that takes the value of the item inside the sequence on each iteration.\n",
    "\n",
    "fruits = [\"apple\", \"banana\", \"cherry\", \"kiwi\"]\n",
    "for fruit in fruits:\n",
    "    print(fruit)\n"
   ]
  },
  {
   "cell_type": "code",
   "execution_count": 3,
   "metadata": {
    "colab": {
     "base_uri": "https://localhost:8080/"
    },
    "id": "8P4OyvSFJTgq",
    "outputId": "24acb42f-718f-4c68-889f-04cc9282380c"
   },
   "outputs": [
    {
     "name": "stdout",
     "output_type": "stream",
     "text": [
      "banana is yummy!\n",
      "kiwi is yummy!\n"
     ]
    }
   ],
   "source": [
    "# For loops with indexes\n",
    "\n",
    "fruits = [\"apple\", \"banana\", \"cherry\", \"kiwi\"]\n",
    "for i in range(1, 4, 2):\t # range(1, 4, going up in 2s)\n",
    "    print(fruits[i], \"is yummy!\")\n"
   ]
  },
  {
   "cell_type": "code",
   "execution_count": 5,
   "metadata": {
    "id": "LGdTP2ThJTgs",
    "outputId": "38ec6e95-4e1e-404a-c2b2-544ce5c72503"
   },
   "outputs": [
    {
     "name": "stdout",
     "output_type": "stream",
     "text": [
      "i: 5\n",
      "i: 6\n",
      "i: 7\n",
      "i: 8\n",
      "i: 9\n",
      "i: 10\n"
     ]
    }
   ],
   "source": [
    "# For example specifying start and end values\n",
    "for i in range(5,10):\n",
    "    print(\"i:\",i)\n"
   ]
  },
  {
   "cell_type": "markdown",
   "metadata": {
    "id": "8Nu3nEzjJTgq"
   },
   "source": [
    "## Transfer and Flow Control\n",
    "\n",
    "Sometimes, an external factor may influence the way your program runs. When this occurs, you may want your program to exit a loop completely, skip part of a loop before continuing, or ignore that external factor."
   ]
  },
  {
   "cell_type": "code",
   "execution_count": 6,
   "metadata": {
    "colab": {
     "base_uri": "https://localhost:8080/"
    },
    "id": "uhxXmdruJTgs",
    "outputId": "e72c0e11-4f26-4d9e-e624-5fb08398fc9f"
   },
   "outputs": [
    {
     "name": "stdout",
     "output_type": "stream",
     "text": [
      "apple is yummy!\n",
      "banana is yummy!\n"
     ]
    }
   ],
   "source": [
    "\n",
    "\"\"\"break statement provides you with the opportunity to exit out of a loop when an external condition\n",
    "is triggered.\n",
    "\"\"\"\n",
    "\n",
    "fruits = [\"apple\", \"banana\", \"cherry\", \"kiwi\"]\n",
    "for fruit in fruits:\n",
    "    if fruit == \"cherry\":\n",
    "        break\n",
    "    print(fruit, \"is yummy!\")"
   ]
  },
  {
   "cell_type": "code",
   "execution_count": 7,
   "metadata": {
    "colab": {
     "base_uri": "https://localhost:8080/"
    },
    "id": "MT1Gk2lsJTgr",
    "outputId": "9f7669e9-e036-45f4-8448-0a54bd4e8ed7"
   },
   "outputs": [
    {
     "name": "stdout",
     "output_type": "stream",
     "text": [
      "apple is yummy!\n",
      "banana is yummy!\n",
      "kiwi is yummy!\n"
     ]
    }
   ],
   "source": [
    "\n",
    "\"\"\"\n",
    "continue statement gives you the option to skip over the part of a loop where an external\n",
    "condition is triggered, but to go on to complete the rest of the loop.\n",
    "\"\"\"\n",
    "fruits = [\"apple\", \"banana\", \"cherry\", \"kiwi\"]\n",
    "for fruit in fruits:\n",
    "    if fruit == \"cherry\":\n",
    "        continue\n",
    "    print(fruit, \"is yummy!\")\n"
   ]
  },
  {
   "cell_type": "code",
   "execution_count": 8,
   "metadata": {
    "colab": {
     "base_uri": "https://localhost:8080/"
    },
    "id": "yFMdzF9VJTgr",
    "outputId": "b45b7612-3ec9-463b-f314-537a20207b58"
   },
   "outputs": [
    {
     "name": "stdout",
     "output_type": "stream",
     "text": [
      "apple is yummy!\n",
      "banana is yummy!\n",
      "cherry is yummy!\n",
      "kiwi is yummy!\n"
     ]
    }
   ],
   "source": [
    "\n",
    "\"\"\"\n",
    "pass statement allows you to handle the condition without the loop being impacted in any way;\n",
    "all of the code will continue to be read unless a break.\n",
    "\"\"\"\n",
    "fruits = [\"apple\", \"banana\", \"cherry\", \"kiwi\"]\n",
    "for fruit in fruits:\n",
    "    if fruit == \"cherry\":\n",
    "        pass\n",
    "    print(fruit, \"is yummy!\")"
   ]
  },
  {
   "cell_type": "markdown",
   "metadata": {
    "id": "OyzBokkvJTgt"
   },
   "source": [
    "Student Task: For loop"
   ]
  },
  {
   "cell_type": "code",
   "execution_count": 9,
   "metadata": {
    "id": "livOed9KJTgt",
    "outputId": "0aa47284-bbbb-4fdd-c5e5-f718355c0670"
   },
   "outputs": [
    {
     "name": "stdout",
     "output_type": "stream",
     "text": [
      "i: 10\n",
      "i: 12\n",
      "i: 14\n",
      "i: 16\n",
      "i: 18\n"
     ]
    }
   ],
   "source": [
    "# For example specifying start, end and step values\n",
    "for i in range(10,20,2):\n",
    "    print(\"i:\",i)\n"
   ]
  },
  {
   "cell_type": "markdown",
   "metadata": {
    "id": "kRUF_cGNJTgu"
   },
   "source": [
    "## Nested Loops\n",
    "Sometimes we need to put a loop inside a loop. The \"inner loop\" will be executed one time for each iteration of the \"outer loop“.\n"
   ]
  },
  {
   "cell_type": "code",
   "execution_count": 10,
   "metadata": {
    "colab": {
     "base_uri": "https://localhost:8080/"
    },
    "id": "UMcuxxuWJTg4",
    "outputId": "8113f66f-bd14-46f7-e2fa-5daf948032b2"
   },
   "outputs": [
    {
     "name": "stdout",
     "output_type": "stream",
     "text": [
      "red apple\n",
      "red banana\n",
      "red cherry\n",
      "big apple\n",
      "big banana\n",
      "big cherry\n",
      "tasty apple\n",
      "tasty banana\n",
      "tasty cherry\n"
     ]
    }
   ],
   "source": [
    "# Nest loop example\n",
    "adj = [\"red\", \"big\", \"tasty\"]\n",
    "fruits = [\"apple\", \"banana\", \"cherry\"]\n",
    "\n",
    "for x in adj:\n",
    "  for y in fruits:\n",
    "    print(x, y)"
   ]
  },
  {
   "cell_type": "code",
   "execution_count": 11,
   "metadata": {
    "id": "p_EkuSdOJTg4",
    "outputId": "a7c256ff-3e9c-45ab-c6a1-74277221cbd3"
   },
   "outputs": [
    {
     "name": "stdout",
     "output_type": "stream",
     "text": [
      "0 * 0 = 0\n",
      "0 * 1 = 0\n",
      "0 * 2 = 0\n",
      "0 * 3 = 0\n",
      "1 * 0 = 0\n",
      "1 * 1 = 1\n",
      "1 * 2 = 2\n",
      "1 * 3 = 3\n",
      "2 * 0 = 0\n",
      "2 * 1 = 2\n",
      "2 * 2 = 4\n",
      "2 * 3 = 6\n"
     ]
    },
    {
     "data": {
      "text/plain": [
       "'\\nIn each iteration of the outer loop, inner loop execute all its iteration. For each iteration of an\\nouter loop the inner loop re-start and completes its execution before the outer loop can continue\\nto its next iteration.\\n'"
      ]
     },
     "execution_count": 11,
     "metadata": {},
     "output_type": "execute_result"
    }
   ],
   "source": [
    "# Nested loop\n",
    "for i in range(3):\n",
    "    for j in range(4):\n",
    "        print(i,\"*\",j,\"=\",i*j)\n",
    "\n",
    "\"\"\"\n",
    "In each iteration of the outer loop, inner loop execute all its iteration. For each iteration of an\n",
    "outer loop the inner loop re-start and completes its execution before the outer loop can continue\n",
    "to its next iteration.\n",
    "\"\"\"\n"
   ]
  },
  {
   "cell_type": "code",
   "execution_count": 12,
   "metadata": {
    "colab": {
     "base_uri": "https://localhost:8080/"
    },
    "id": "DvkuN-F8iaIj",
    "outputId": "b2bdfeb0-99cb-4e3b-e82a-fd002e5e5305"
   },
   "outputs": [
    {
     "name": "stdout",
     "output_type": "stream",
     "text": [
      "Found 5 at position (1, 1)\n"
     ]
    }
   ],
   "source": [
    "# data science example\n",
    "# Set the target value to search for\n",
    "target_value = 5\n",
    "\n",
    "# Define a 3x3 matrix for the search\n",
    "matrix = [[1, 2, 3], [4, 5, 6], [7, 8, 9]]\n",
    "\n",
    "# Outer loop: Iterate over the rows of the matrix\n",
    "for i in range(len(matrix)):\n",
    "    # Inner loop: Iterate over the elements in each row\n",
    "    for j in range(len(matrix[i])):\n",
    "        # Check if the current element is equal to the target value\n",
    "        if matrix[i][j] == target_value:\n",
    "            # Print a message indicating the position of the target value\n",
    "            print(f\"Found {target_value} at position ({i}, {j})\")\n",
    "            # Break out of the inner loop since the target value is found\n",
    "            break\n",
    "\n"
   ]
  },
  {
   "cell_type": "markdown",
   "metadata": {
    "id": "EDkavlkQJTg5"
   },
   "source": [
    "## While loops\n",
    "\n",
    "While loops will loop over code as long as a condition is true. The condition is checked after the loop code has completed.\n"
   ]
  },
  {
   "cell_type": "code",
   "execution_count": 13,
   "metadata": {},
   "outputs": [
    {
     "name": "stdout",
     "output_type": "stream",
     "text": [
      "Hi\n",
      "Hi\n",
      "Hi\n",
      "Hi\n",
      "Hi\n"
     ]
    }
   ],
   "source": [
    "#A while loop is used when you want to execute a block of code as long as a condition is true. \n",
    "#It's like saying, \"Keep doing this until something happens.\"\n",
    "\n",
    "num = 0\n",
    "while num < 5:\n",
    "    print(\"Hi\")\n",
    "    num += 1\n",
    "\n"
   ]
  },
  {
   "cell_type": "code",
   "execution_count": 14,
   "metadata": {
    "colab": {
     "base_uri": "https://localhost:8080/"
    },
    "id": "QSfUQ4Fj2kf_",
    "outputId": "a749f2e4-dfd9-4266-9656-f01d69e27354"
   },
   "outputs": [
    {
     "name": "stdout",
     "output_type": "stream",
     "text": [
      "0\n",
      "1\n",
      "2\n",
      "3\n",
      "4\n"
     ]
    }
   ],
   "source": [
    "\n",
    "# Initialize a counter\n",
    "counter = 0\n",
    "\n",
    "# Define the condition for the while loop\n",
    "while counter < 5:\n",
    "    # Code to be executed as long as counter is less than 5\n",
    "    print(counter)\n",
    "\n",
    "    # Increment the counter\n",
    "    counter += 1\n"
   ]
  },
  {
   "cell_type": "code",
   "execution_count": 15,
   "metadata": {
    "colab": {
     "base_uri": "https://localhost:8080/"
    },
    "id": "mCGLt_JFJTg5",
    "outputId": "135a1c2d-49f4-4c8f-8fec-6abe59fdd3c3"
   },
   "outputs": [
    {
     "name": "stdout",
     "output_type": "stream",
     "text": [
      "1\n",
      "2\n",
      "3\n",
      "4\n",
      "5\n",
      "6\n",
      "7\n"
     ]
    }
   ],
   "source": [
    "# Breaks can also be used in while loops\n",
    "i = 1\n",
    "while i < 15:\n",
    "  print(i)\n",
    "  if i == 7:\n",
    "    break\n",
    "  i += 1"
   ]
  },
  {
   "cell_type": "code",
   "execution_count": 16,
   "metadata": {
    "id": "r-Sbfzo9JTg6"
   },
   "outputs": [
    {
     "name": "stdout",
     "output_type": "stream",
     "text": [
      "1\n",
      "2\n",
      "4\n",
      "5\n",
      "6\n"
     ]
    }
   ],
   "source": [
    "# Continue - when i is 3, jump directly to the next iteration.\n",
    "i = 0\n",
    "while i < 6:\n",
    "  i += 1\n",
    "  if i == 3:\n",
    "    continue\n",
    "\n",
    "  print(i)"
   ]
  },
  {
   "cell_type": "markdown",
   "metadata": {
    "id": "1zJHG4MMJTg6"
   },
   "source": [
    "Student task: While loop"
   ]
  },
  {
   "cell_type": "markdown",
   "metadata": {
    "id": "ThOeS8dvJTg6"
   },
   "source": [
    "## For loops vs while loops"
   ]
  },
  {
   "cell_type": "code",
   "execution_count": 17,
   "metadata": {
    "id": "te4bE2V5JTg6"
   },
   "outputs": [
    {
     "name": "stdout",
     "output_type": "stream",
     "text": [
      "0\n",
      "1\n",
      "2\n"
     ]
    }
   ],
   "source": [
    "# For loops and while loops can be coded to do the same thing\n",
    "\n",
    "#For loops should be used when it is known ahead of time the number of iterations\n",
    "\n",
    "\n",
    "for i in range(3):\n",
    "    print(i)\n"
   ]
  },
  {
   "cell_type": "code",
   "execution_count": 18,
   "metadata": {
    "id": "05hs4FsdJTg6"
   },
   "outputs": [
    {
     "name": "stdout",
     "output_type": "stream",
     "text": [
      "0\n",
      "1\n",
      "2\n"
     ]
    }
   ],
   "source": [
    "# While loops should be used when it is not known ahead of time the number of iterations\n",
    "i = 0\n",
    "while(i < 3):\n",
    "    print(i)\n",
    "    i = i + 1\n"
   ]
  },
  {
   "cell_type": "markdown",
   "metadata": {
    "id": "WbUjif7JJTg6"
   },
   "source": [
    "## Funcions and procedures"
   ]
  },
  {
   "cell_type": "code",
   "execution_count": 19,
   "metadata": {
    "id": "RM4c7JGiJTg7",
    "outputId": "14c3941e-1411-42aa-bfcd-fc843d5c4e24"
   },
   "outputs": [
    {
     "name": "stdin",
     "output_type": "stream",
     "text": [
      "Enter first name:  Callum\n",
      "Enter last name:  Taylor\n"
     ]
    },
    {
     "name": "stdout",
     "output_type": "stream",
     "text": [
      "Hello Callum Taylor\n"
     ]
    }
   ],
   "source": [
    "#Procedure\n",
    "def hello():\n",
    "    firstname = input(\"Enter first name: \")\n",
    "    lastname = input(\"Enter last name: \")\n",
    "    print(\"Hello\", firstname, lastname)\n",
    "\n",
    "hello() #calling the procedure"
   ]
  },
  {
   "cell_type": "code",
   "execution_count": 21,
   "metadata": {
    "id": "jBuM9XgRJTg7",
    "outputId": "9ba484d8-aefd-4438-f2a5-36bd8e3b6ac0"
   },
   "outputs": [
    {
     "data": {
      "text/plain": [
       "64"
      ]
     },
     "execution_count": 21,
     "metadata": {},
     "output_type": "execute_result"
    }
   ],
   "source": [
    "# Function and return statement\n",
    "def cube(num):\n",
    "    return num*num*num\n",
    "    #return keyword breaks out of the function.Anything after the return will not be executed\n",
    "\n",
    "cube(4)"
   ]
  },
  {
   "cell_type": "code",
   "execution_count": 22,
   "metadata": {
    "id": "baimVgrPJTg7",
    "outputId": "fdb05fe5-15bc-4f63-bd21-64814320164c"
   },
   "outputs": [
    {
     "name": "stdout",
     "output_type": "stream",
     "text": [
      "30\n"
     ]
    }
   ],
   "source": [
    "# Function\n",
    "def number(number1, number2):\n",
    "    answer = number1 + number2\n",
    "    return answer\n",
    "\n",
    "added_number = number (5,5) # puts numbers into the 'placeholders'\n",
    "\n",
    "print(added_number + 20) # add 20 onto the answer calculated in the function\n",
    "\n"
   ]
  },
  {
   "cell_type": "code",
   "execution_count": 20,
   "metadata": {},
   "outputs": [
    {
     "name": "stdin",
     "output_type": "stream",
     "text": [
      "Enter first name:  Cindy\n",
      "Enter last name:  Amevor\n"
     ]
    },
    {
     "name": "stdout",
     "output_type": "stream",
     "text": [
      "Hello Cindy Amevor\n"
     ]
    }
   ],
   "source": [
    "hello()"
   ]
  },
  {
   "cell_type": "code",
   "execution_count": 23,
   "metadata": {
    "id": "DS6-imCTJTg8",
    "outputId": "93e61159-15ad-4fb1-9cc7-2ecfa7b92583"
   },
   "outputs": [
    {
     "name": "stdout",
     "output_type": "stream",
     "text": [
      "8\n"
     ]
    }
   ],
   "source": [
    "\"\"\" Note: If you do not return the values, then the values of any variables that were\n",
    "created or altered in that subprogram cannot be used elsewhere in your program \"\"\"\n",
    "\n",
    "def addition(number1, number2):\n",
    "    answer = number1 + number2\n",
    "    return answer\n",
    "\n",
    "def subtraction(number1, number2):\n",
    "    answer = number1 - number2\n",
    "    return answer\n",
    "\n",
    "def multiply(number1, number2):\n",
    "    answer = number1 * number2\n",
    "    return answer\n",
    "\n",
    "print(multiply(addition(2,2), subtraction(10,8))) #Follow the rules of BODMAS\n",
    "\n"
   ]
  },
  {
   "cell_type": "code",
   "execution_count": 24,
   "metadata": {
    "id": "M11nBQf-Xp4Z"
   },
   "outputs": [
    {
     "name": "stdout",
     "output_type": "stream",
     "text": [
      "Hello, Alice!\n"
     ]
    }
   ],
   "source": [
    "def greet(name, greeting):\n",
    "    print(f\"{greeting}, {name}!\")\n",
    "\n",
    "# Calling the function with positional parameters\n",
    "greet(\"Alice\", \"Hello\")\n"
   ]
  },
  {
   "cell_type": "code",
   "execution_count": 25,
   "metadata": {
    "id": "MDdOjVwlJTg8",
    "outputId": "6fd2b468-207a-4ae5-8e8a-414404457c6f"
   },
   "outputs": [
    {
     "name": "stdout",
     "output_type": "stream",
     "text": [
      "Hello Georgina\n",
      "Hello Amander\n"
     ]
    }
   ],
   "source": [
    "# Passing in parameters\n",
    "def sayhi(name):\n",
    "\tprint(\"Hello \" + name)\n",
    "\n",
    "sayhi(\"Georgina\")\n",
    "sayhi(\"Amander\")"
   ]
  },
  {
   "cell_type": "code",
   "execution_count": 26,
   "metadata": {
    "id": "ndBC4_nDJTg8"
   },
   "outputs": [
    {
     "name": "stdout",
     "output_type": "stream",
     "text": [
      "Hello Georgina, you are 24\n"
     ]
    }
   ],
   "source": [
    "# Passing in multiple parameters\n",
    "def sayhi(name, age):\n",
    "\tprint(\"Hello \" + name + \", you are \" + age)\n",
    "\n",
    "sayhi(\"Georgina\", \"24\")\n"
   ]
  },
  {
   "cell_type": "code",
   "execution_count": 30,
   "metadata": {
    "id": "G2hGyojcJTg9"
   },
   "outputs": [
    {
     "name": "stdin",
     "output_type": "stream",
     "text": [
      "What is your name?  Sat\n",
      "What is your age?  21\n"
     ]
    },
    {
     "name": "stdout",
     "output_type": "stream",
     "text": [
      "Hello Sat! You will be  22 For your next birthday!\n"
     ]
    }
   ],
   "source": [
    "def procedure_2(inp_name,inp_age):  # think as placeholders\n",
    "    print(\"Hello\", inp_name + \"! You will be \", str(inp_age + 1), \"For your next birthday!\")\n",
    "\n",
    "name = input(\"What is your name? \") # goes into placeholder 1\n",
    "age  = int(input(\"What is your age? \")) # goes into placeholder 2\n",
    "\n",
    "procedure_2(name, age)"
   ]
  },
  {
   "cell_type": "code",
   "execution_count": 29,
   "metadata": {},
   "outputs": [
    {
     "name": "stdout",
     "output_type": "stream",
     "text": [
      "Hello Val! You will be  80 For your next birthday!\n"
     ]
    }
   ],
   "source": [
    "procedure_2(name, age)"
   ]
  },
  {
   "cell_type": "code",
   "execution_count": null,
   "metadata": {},
   "outputs": [],
   "source": []
  }
 ],
 "metadata": {
  "colab": {
   "provenance": []
  },
  "kernelspec": {
   "display_name": "Python 3 (ipykernel)",
   "language": "python",
   "name": "python3"
  },
  "language_info": {
   "codemirror_mode": {
    "name": "ipython",
    "version": 3
   },
   "file_extension": ".py",
   "mimetype": "text/x-python",
   "name": "python",
   "nbconvert_exporter": "python",
   "pygments_lexer": "ipython3",
   "version": "3.11.7"
  },
  "vscode": {
   "interpreter": {
    "hash": "ac386f5353f47742201f3ac80f02cf24426a78d9f41b1998c4a060eca4805fca"
   }
  }
 },
 "nbformat": 4,
 "nbformat_minor": 4
}
