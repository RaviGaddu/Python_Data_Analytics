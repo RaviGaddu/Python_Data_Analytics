{
 "cells": [
  {
   "cell_type": "code",
   "execution_count": 3,
   "id": "9b01cd9c-7aef-474b-8b90-18721b4315a1",
   "metadata": {},
   "outputs": [
    {
     "name": "stdout",
     "output_type": "stream",
     "text": [
      "Weather in New York:\n",
      "Temperature: 14.47°C\n",
      "Description: scattered clouds\n"
     ]
    }
   ],
   "source": [
    "# this import request allows us to send HTTP requests to the web server \n",
    "import requests\n",
    "\n",
    "# defining a function to get the weather from the API using 2 parameters on the site using an API key which is your \n",
    "# unique API key on your email for accessing the weather data and City variable for the name of the City you search\n",
    "# weather for \n",
    "\n",
    "# inside the function, you construct a URL using the OpenWeatherMap API endpoint \n",
    "# (http://api.openweathermap.org/data/2.5/weather) and pass in the city and api_key as parameters. \n",
    "# you also specify units = metric to get temperature in Celsius.\n",
    "\n",
    "# you send a GET request to the constructed URL using requests.get(url) and store the response in the response variable.\n",
    "\n",
    "# then you convert the response to JSON format using .json() method and store it in the data variable.\n",
    "\n",
    "# you then check if the response status code is 200, which means the request was successful. \n",
    "# If it is, you can extract the relevant weather information like city name, temperature, and weather \n",
    "# description from the JSON data.\n",
    "\n",
    "# you then return a dictionary containing the extracted weather information.\n",
    "\n",
    "# if there is an error (for example, if the city name was misspelled or if there was a problem with the API key), \n",
    "# your code below would print an error message.\n",
    "\n",
    "def get_weather(api_key, city):\n",
    "    url = f\"http://api.openweathermap.org/data/2.5/weather?q={city}&appid={api_key}&units=metric\"\n",
    "    response = requests.get(url)\n",
    "    data = response.json()\n",
    "    if response.status_code == 200:\n",
    "        weather = {\n",
    "            \"city\": data[\"name\"],\n",
    "            \"temperature\": data[\"main\"][\"temp\"],\n",
    "            \"description\": data[\"weather\"][0][\"description\"],\n",
    "        }\n",
    "        return weather\n",
    "    else:\n",
    "        print(\"Error:\", data[\"message\"])\n",
    "        return None\n",
    "\n",
    "# Replace 'your_api_key' with your actual API key from OpenWeatherMap\n",
    "\n",
    "# here you are calling the get_weather function with the api_key and city variables as arguments \n",
    "# and are storing the result in the weather variable.\n",
    "\n",
    "# if the weather variable is not None (meaning we successfully retrieved weather data), \n",
    "# then the code prints out the weather information including the city name, temperature, and weather description.\n",
    "\n",
    "api_key = \"ENTER YOUR API KEY HERE\"\n",
    "city = \"New York\"  # You can change this to any city you want\n",
    "weather = get_weather(api_key, city)\n",
    "if weather:\n",
    "    print(f\"Weather in {weather['city']}:\")\n",
    "    print(f\"Temperature: {weather['temperature']}°C\")\n",
    "    print(f\"Description: {weather['description']}\")\n",
    "\n"
   ]
  },
  {
   "cell_type": "code",
   "execution_count": 5,
   "id": "ac2812e0-b88c-46f5-b7a2-6e33a788d9ae",
   "metadata": {},
   "outputs": [
    {
     "name": "stdin",
     "output_type": "stream",
     "text": [
      "Enter City Name: Manchester\n"
     ]
    },
    {
     "name": "stdout",
     "output_type": "stream",
     "text": [
      "Weather in Manchester\n",
      "Temperature: 14.54°C\n",
      "Description: light rain\n"
     ]
    }
   ],
   "source": [
    "import requests\n",
    "\n",
    "def get_weather(api_key, city):\n",
    "    url = f\"http://api.openweathermap.org/data/2.5/weather?q={city}&appid={api_key}&units=metric\"\n",
    "    response = requests.get(url)\n",
    "    data = response.json()\n",
    "    if response.status_code == 200:\n",
    "        weather = {\n",
    "            \"city\": data[\"name\"],\n",
    "            \"temperature\": data[\"main\"][\"temp\"],\n",
    "            \"description\": data[\"weather\"][0][\"description\"],\n",
    "        }\n",
    "        return weather\n",
    "    else:\n",
    "        print(\"Error:\", data[\"message\"])\n",
    "        return None\n",
    "\n",
    "# Replace 'your_api_key' with your actual API key from OpenWeatherMap\n",
    "api_key = \"ENTER YOUR API KEY HERE\"\n",
    "city = input(\"Enter City Name:\")  # You can change this to any city you want\n",
    "weather = get_weather(api_key, city)\n",
    "if weather:\n",
    "    print(f\"Weather in {weather['city']}\")\n",
    "    print(f\"Temperature: {weather['temperature']}°C\")\n",
    "    print(f\"Description: {weather['description']}\")\n"
   ]
  },
  {
   "cell_type": "code",
   "execution_count": null,
   "id": "41a0ca59-b4b3-435d-9a09-ece76bb74bb3",
   "metadata": {},
   "outputs": [],
   "source": []
  }
 ],
 "metadata": {
  "kernelspec": {
   "display_name": "Python 3 (ipykernel)",
   "language": "python",
   "name": "python3"
  },
  "language_info": {
   "codemirror_mode": {
    "name": "ipython",
    "version": 3
   },
   "file_extension": ".py",
   "mimetype": "text/x-python",
   "name": "python",
   "nbconvert_exporter": "python",
   "pygments_lexer": "ipython3",
   "version": "3.11.7"
  }
 },
 "nbformat": 4,
 "nbformat_minor": 5
}
