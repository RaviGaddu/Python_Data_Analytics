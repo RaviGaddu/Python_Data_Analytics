{
 "cells": [
  {
   "cell_type": "code",
   "execution_count": 11,
   "id": "cb9cf575-019e-4f03-a37d-3d376ba554f2",
   "metadata": {},
   "outputs": [],
   "source": [
    "# Import the libraries that are needed such as requests and JSON (JavaScript Object Notation)\n",
    "import requests\n",
    "import json"
   ]
  },
  {
   "cell_type": "code",
   "execution_count": 20,
   "id": "a721f160-76dc-4ef3-a839-ac8f8ecbd2e1",
   "metadata": {},
   "outputs": [],
   "source": [
    "# Step 1: State the API key and base URL. The API key is given to you when you sign up, also the base URL is given to copy and paste\n",
    "api_key = \"API_KEY\"\n",
    "base_url = \"http://api.openweathermap.org/data/2.5/weather?\"\n"
   ]
  },
  {
   "cell_type": "code",
   "execution_count": 25,
   "id": "ac7a1db7-b29b-4c87-aeb0-97ba8a6a2233",
   "metadata": {},
   "outputs": [],
   "source": [
    "# Step 2: State the country, county, city or town for which you want to get the weather. I chose Geneva\n",
    "city_name = \"Madrid\"\n",
    "# Step 3: Construct the complete API request URL\n",
    "complete_url = base_url + \"q=\" + city_name + \"&appid=\" + api_key"
   ]
  },
  {
   "cell_type": "code",
   "execution_count": 22,
   "id": "12064aee-3990-46b9-aa7d-5a9fcc591ec3",
   "metadata": {},
   "outputs": [],
   "source": [
    "# Step 4: The code then has to make the request to the OpenWeather API\n",
    "response = requests.get(complete_url)"
   ]
  },
  {
   "cell_type": "code",
   "execution_count": 23,
   "id": "ca3afc0a-84eb-4072-b62c-38838d5335d4",
   "metadata": {},
   "outputs": [
    {
     "name": "stdout",
     "output_type": "stream",
     "text": [
      "City Not Found!\n"
     ]
    }
   ],
   "source": [
    "# Step 5: Check the status code of the response, HTTP status codes are used, status code 200 indicates the request was successful\n",
    "\n",
    "if response.status_code == 200:\n",
    "    data = response.json()\n",
    "    \n",
    "# Step 7: Extract specific data from the JSON 'main' section of JSON gives the most important information about the weather (temperature etc)\n",
    "    main = data['main']\n",
    "    weather = data['weather'][0]\n",
    "    \n",
    "# Step 8: Print the extracted data, basically show  what the outcome is.\n",
    "    print(f\"City: {city_name}\")\n",
    "    print(f\"Temperature: {main['temp']}\")\n",
    "    print(f\"Weather: {weather['description']}\")\n",
    "else:\n",
    "    print(\"City Not Found!\")"
   ]
  },
  {
   "cell_type": "code",
   "execution_count": null,
   "id": "4647803c-a7a4-4a7a-852c-cc943b676992",
   "metadata": {},
   "outputs": [],
   "source": []
  }
 ],
 "metadata": {
  "kernelspec": {
   "display_name": "Python 3 (ipykernel)",
   "language": "python",
   "name": "python3"
  },
  "language_info": {
   "codemirror_mode": {
    "name": "ipython",
    "version": 3
   },
   "file_extension": ".py",
   "mimetype": "text/x-python",
   "name": "python",
   "nbconvert_exporter": "python",
   "pygments_lexer": "ipython3",
   "version": "3.11.7"
  }
 },
 "nbformat": 4,
 "nbformat_minor": 5
}
